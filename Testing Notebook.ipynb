{
 "cells": [
  {
   "cell_type": "markdown",
   "id": "7b36ce7b-970f-406d-9399-7222d67f1c32",
   "metadata": {},
   "source": [
    "# Testing Our Linear Regression Algorithm"
   ]
  },
  {
   "cell_type": "markdown",
   "id": "53b91dac-0036-4937-8f28-f10aacdc64fc",
   "metadata": {},
   "source": [
    "## Importing Libraries"
   ]
  },
  {
   "cell_type": "code",
   "execution_count": 1,
   "id": "374203ed-c95f-4df5-8c8e-810b050f5d7a",
   "metadata": {},
   "outputs": [],
   "source": [
    "import numpy as np\n",
    "from gradient_descent import Linear_Regression\n",
    "from sklearn.model_selection import train_test_split\n",
    "from sklearn.linear_model import LinearRegression\n",
    "import time\n",
    "import math"
   ]
  },
  {
   "cell_type": "markdown",
   "id": "110105d1-e9db-4791-ad69-77e35eebdc4b",
   "metadata": {},
   "source": [
    "## Creating a 2D - Dataset of random variables"
   ]
  },
  {
   "cell_type": "code",
   "execution_count": 31,
   "id": "e9d55fdb-1532-44fd-9b2e-15e111813ca7",
   "metadata": {},
   "outputs": [],
   "source": [
    "# Creating a dataset of N features which 1000 random values\n",
    "N = 2        # No of features\n",
    "M = 10       # No of rows\n",
    "x = np.random.rand(M, N)\n",
    "# Setting coefficient and intercept \n",
    "# (you can add features or change coefficient as per your requirement)\n",
    "# Make sure that no of coefficient should be same as no of features\n",
    "actual_m = np.random.rand(N)\n",
    "actual_c = np.random.rand(1)[0]\n",
    "\n",
    "# Creating X and Y\n",
    "y = np.array([(actual_m * x[row]).sum() + actual_c for row in range(M)])"
   ]
  },
  {
   "cell_type": "markdown",
   "id": "516a753d-6661-4336-aa72-19fb98ce4dde",
   "metadata": {},
   "source": [
    "## Testing Our Algorithm"
   ]
  },
  {
   "cell_type": "code",
   "execution_count": 32,
   "id": "3545efc9-7f49-49d9-9f56-173a1b2aff0e",
   "metadata": {},
   "outputs": [
    {
     "name": "stdout",
     "output_type": "stream",
     "text": [
      "Actual Coefficients: [0.61186878 0.21071168]\n",
      "Calculated Coefficients: [0.43502846 0.1751164 ]\n",
      "Actual Intercept: 0.34998664808335234\n",
      "Calculated Intercept: 0.17511640476688023\n",
      "\n",
      "\n",
      "\n",
      "Actual Coefficients: [0.61186878 0.21071168]\n",
      "Calculated Coefficients: [0.37580699 0.17434631]\n",
      "Actual Intercept: 0.34998664808335234\n",
      "Calculated Intercept: 0.17434631034225156\n",
      "\n",
      "\n",
      "\n",
      "Actual Coefficients: [0.61186878 0.21071168]\n",
      "Calculated Coefficients: [0.40877521 0.12673268]\n",
      "Actual Intercept: 0.34998664808335234\n",
      "Calculated Intercept: 0.12673268437157933\n",
      "\n",
      "\n",
      "\n",
      "Actual Coefficients: [0.61186878 0.21071168]\n",
      "Calculated Coefficients: [0.36212963 0.2079745 ]\n",
      "Actual Intercept: 0.34998664808335234\n",
      "Calculated Intercept: 0.20797450199703701\n",
      "\n",
      "\n",
      "\n",
      "Actual Coefficients: [0.61186878 0.21071168]\n",
      "Calculated Coefficients: [0.39721007 0.21139648]\n",
      "Actual Intercept: 0.34998664808335234\n",
      "Calculated Intercept: 0.2113964794318445\n",
      "\n",
      "\n",
      "\n",
      "Actual Coefficients: [0.61186878 0.21071168]\n",
      "Calculated Coefficients: [0.39276054 0.12052566]\n",
      "Actual Intercept: 0.34998664808335234\n",
      "Calculated Intercept: 0.12052565889698896\n",
      "\n",
      "\n",
      "\n",
      "Actual Coefficients: [0.61186878 0.21071168]\n",
      "Calculated Coefficients: [0.41749675 0.20448057]\n",
      "Actual Intercept: 0.34998664808335234\n",
      "Calculated Intercept: 0.20448057483336765\n",
      "\n",
      "\n",
      "\n",
      "Actual Coefficients: [0.61186878 0.21071168]\n",
      "Calculated Coefficients: [0.43074154 0.15787969]\n",
      "Actual Intercept: 0.34998664808335234\n",
      "Calculated Intercept: 0.15787968680454356\n",
      "\n",
      "\n",
      "\n",
      "Actual Coefficients: [0.61186878 0.21071168]\n",
      "Calculated Coefficients: [0.4121951  0.21515114]\n",
      "Actual Intercept: 0.34998664808335234\n",
      "Calculated Intercept: 0.21515114488768328\n",
      "\n",
      "\n",
      "\n",
      "Actual Coefficients: [0.61186878 0.21071168]\n",
      "Calculated Coefficients: [0.38450367 0.16953468]\n",
      "Actual Intercept: 0.34998664808335234\n",
      "Calculated Intercept: 0.16953467566474892\n",
      "\n",
      "\n",
      "\n",
      "Average Training Score: 0.8384966522183255\n",
      "Average Test Score: 0.7295899923799442\n",
      "Total Time: 0.007217530409495036\n"
     ]
    }
   ],
   "source": [
    "'''\n",
    "After the training the algorithm, we will test on training data, check how good algorithm\n",
    "is trained after training with training data and then test will testing_data\n",
    "'''\n",
    "# We can run train the algorithm, ntimes and\n",
    "# check the average training score and testing score\n",
    "\n",
    "total_Training_Score = 0\n",
    "total_Test_Score = 0\n",
    "\n",
    "start_Time = time.time()\n",
    "n = 10\n",
    "for count in range(n):\n",
    "    # Since X and Y, as a complete data\n",
    "    # We need to split into training data and test data\n",
    "    # So, that we can use training data for training the\n",
    "    # algorithm, and testing data for testing it\n",
    "\n",
    "    # Splitting the data into train test, it will split 3:1, mean\n",
    "    # if dataset has 1000 rows, 750 will be in training and 250 in\n",
    "    # testing. And the rows will be selected on random basis.\n",
    "    x_train, x_test, y_train, y_test = train_test_split(x, y)\n",
    "    algo = Linear_Regression()\n",
    "    algo.fit(x_train, y_train)\n",
    "    total_Training_Score += algo.score(x_train, y_train)\n",
    "    total_Test_Score += algo.score(x_test, y_test)\n",
    "\n",
    "    print('Actual Coefficients:', actual_m)\n",
    "    print('Calculated Coefficients:', algo.coef_)\n",
    "    print('Actual Intercept:', actual_c)\n",
    "    print('Calculated Intercept:', algo.intercept_)\n",
    "    print('\\n\\n')\n",
    "\n",
    "end_Time = time.time()\n",
    "\n",
    "# Some Analysis\n",
    "print('Average Training Score:', total_Training_Score/n)\n",
    "print('Average Test Score:', total_Test_Score/n)\n",
    "print('Total Time:', (end_Time - start_Time)/60)"
   ]
  }
 ],
 "metadata": {
  "kernelspec": {
   "display_name": "gradient-descent",
   "language": "python",
   "name": "gradient-descent"
  },
  "language_info": {
   "codemirror_mode": {
    "name": "ipython",
    "version": 3
   },
   "file_extension": ".py",
   "mimetype": "text/x-python",
   "name": "python",
   "nbconvert_exporter": "python",
   "pygments_lexer": "ipython3",
   "version": "3.10.14"
  }
 },
 "nbformat": 4,
 "nbformat_minor": 5
}
